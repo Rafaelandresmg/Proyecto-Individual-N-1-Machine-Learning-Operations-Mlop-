{
 "cells": [
  {
   "cell_type": "code",
   "execution_count": 1,
   "metadata": {},
   "outputs": [],
   "source": [
    "import pandas as pd\n",
    "import pyarrow as pa\n",
    "import pyarrow.parquet as pq\n",
    "import os"
   ]
  },
  {
   "cell_type": "code",
   "execution_count": 9,
   "metadata": {},
   "outputs": [
    {
     "name": "stdout",
     "output_type": "stream",
     "text": [
      "Archivo CSV convertido exitosamente a Parquet: recomienda_item_item.parquet\n"
     ]
    }
   ],
   "source": [
    "def csv_to_parquet(input_csv_path):\n",
    "    # Lee el archivo CSV en un DataFrame de pandas\n",
    "    df = pd.read_csv(input_csv_path)\n",
    "\n",
    "    # Obtiene la ruta del archivo CSV sin la extensión\n",
    "    base_path, file_name = os.path.split(input_csv_path)\n",
    "    file_name_without_extension, _ = os.path.splitext(file_name)\n",
    "\n",
    "    # Construye la ruta del archivo Parquet en la misma carpeta\n",
    "    output_parquet_path = os.path.join(base_path, f\"{file_name_without_extension}.parquet\")\n",
    "\n",
    "    # Guarda el DataFrame en un archivo Parquet\n",
    "    table = pa.Table.from_pandas(df)\n",
    "    pq.write_table(table, output_parquet_path)\n",
    "\n",
    "    return output_parquet_path\n",
    "\n",
    "if __name__ == \"__main__\":\n",
    "    # Especifica la ruta del archivo CSV de entrada\n",
    "    input_csv_file = \"recomienda_item_item.csv\"\n",
    "\n",
    "    # Llama a la función para convertir CSV a Parquet\n",
    "    output_parquet_file = csv_to_parquet(input_csv_file)\n",
    "\n",
    "    print(f\"Archivo CSV convertido exitosamente a Parquet: {output_parquet_file}\")"
   ]
  }
 ],
 "metadata": {
  "kernelspec": {
   "display_name": "Python 3",
   "language": "python",
   "name": "python3"
  },
  "language_info": {
   "codemirror_mode": {
    "name": "ipython",
    "version": 3
   },
   "file_extension": ".py",
   "mimetype": "text/x-python",
   "name": "python",
   "nbconvert_exporter": "python",
   "pygments_lexer": "ipython3",
   "version": "3.12.0"
  }
 },
 "nbformat": 4,
 "nbformat_minor": 2
}
